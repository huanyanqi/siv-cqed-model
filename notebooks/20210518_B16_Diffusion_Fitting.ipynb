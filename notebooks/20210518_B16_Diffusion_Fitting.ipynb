{
 "cells": [
  {
   "cell_type": "code",
   "execution_count": 421,
   "metadata": {},
   "outputs": [],
   "source": [
    "import os\n",
    "import copy\n",
    "import functools\n",
    "from collections import defaultdict\n",
    "\n",
    "import numpy as np\n",
    "import matplotlib.pyplot as plt\n",
    "import matplotlib.patches as patches\n",
    "import lmfit\n",
    "import corner\n",
    "\n",
    "from scipy.stats import linregress\n",
    "from matplotlib.ticker import MultipleLocator\n",
    "from lmfit import Parameter, Parameters \n",
    "\n",
    "import sivqed.models.fitter as fitter\n",
    "from sivqed.models.cavity import Cavity, MultiQubitCavity\n",
    "from sivqed.models.fitter import cavity_ref_model, single_siv_ref_model\n",
    "\n",
    "np.set_printoptions(precision=4)\n",
    "plt.rcParams['font.size'] = 18\n",
    "plt.rcParams['figure.figsize'] = [8, 5]"
   ]
  }
 ],
 "metadata": {
  "kernelspec": {
   "display_name": "Python 3.8.2 64-bit",
   "language": "python",
   "name": "python38264bit163eab01a7b945e3aad1bbef7d8cb1f4"
  },
  "language_info": {
   "codemirror_mode": {
    "name": "ipython",
    "version": 3
   },
   "file_extension": ".py",
   "mimetype": "text/x-python",
   "name": "python",
   "nbconvert_exporter": "python",
   "pygments_lexer": "ipython3",
   "version": "3.8.2"
  },
  "metadata": {
   "interpreter": {
    "hash": "bdd928b34ce70620c50359309d5fb397bd32acf7bb540985ea756bb56f5343b5"
   }
  }
 },
 "nbformat": 4,
 "nbformat_minor": 2
}
